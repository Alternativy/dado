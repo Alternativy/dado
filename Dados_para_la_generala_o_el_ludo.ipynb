{
  "nbformat": 4,
  "nbformat_minor": 0,
  "metadata": {
    "colab": {
      "name": "Dados para la generala o el ludo.ipynb",
      "provenance": [],
      "collapsed_sections": [],
      "include_colab_link": true
    },
    "kernelspec": {
      "name": "python3",
      "display_name": "Python 3"
    },
    "language_info": {
      "name": "python"
    }
  },
  "cells": [
    {
      "cell_type": "markdown",
      "metadata": {
        "id": "view-in-github",
        "colab_type": "text"
      },
      "source": [
        "<a href=\"https://colab.research.google.com/github/Alternativy/dado/blob/main/Dados_para_la_generala_o_el_ludo.ipynb\" target=\"_parent\"><img src=\"https://colab.research.google.com/assets/colab-badge.svg\" alt=\"Open In Colab\"/></a>"
      ]
    },
    {
      "cell_type": "markdown",
      "metadata": {
        "id": "ujZOBZIDbp5x"
      },
      "source": [
        "Mandale play a los dos primeros y ya el tercero es el dado\n",
        "el primero para importar la libreria y el segundo para importar la funcion/metodo que necesito"
      ]
    },
    {
      "cell_type": "code",
      "metadata": {
        "id": "SRJr3JiGaaWu"
      },
      "source": [
        "import random"
      ],
      "execution_count": null,
      "outputs": []
    },
    {
      "cell_type": "code",
      "metadata": {
        "id": "tPhu19sJajHO"
      },
      "source": [
        "from random import randint"
      ],
      "execution_count": null,
      "outputs": []
    },
    {
      "cell_type": "markdown",
      "metadata": {
        "id": "NS9bpLuHbL5z"
      },
      "source": [
        "Mandale play y te sale el numero crack, si queres cambiale los numeros de los parentesis para tener mas o menos rango"
      ]
    },
    {
      "cell_type": "code",
      "metadata": {
        "colab": {
          "base_uri": "https://localhost:8080/"
        },
        "id": "1cKaAZPpauh6",
        "outputId": "bb0e0cd6-8afe-4f64-8641-a85150e09e63"
      },
      "source": [
        "x = randint(1,6)\n",
        "print(x)"
      ],
      "execution_count": null,
      "outputs": [
        {
          "output_type": "stream",
          "name": "stdout",
          "text": [
            "2\n"
          ]
        }
      ]
    },
    {
      "cell_type": "markdown",
      "metadata": {
        "id": "ENvFioGhfMgR"
      },
      "source": [
        "Si jugas al  ludo mandale a este"
      ]
    },
    {
      "cell_type": "code",
      "metadata": {
        "colab": {
          "base_uri": "https://localhost:8080/"
        },
        "id": "ZiqnJ1VUclok",
        "outputId": "16d27621-a35f-4030-e080-b87f9c4e1c7b"
      },
      "source": [
        "x = randint(1,6)\n",
        "if x == 6:\n",
        "   print(\"sacas una ficha o move una 6 veces brow, tambien volve a tirar\")\n",
        "elif  x == 1:\n",
        "  print(\"move la ficha 1 vez perri\")\n",
        "else:\n",
        "  x = str(x)\n",
        "  print(\"move la ficha \"+ x + \" veces pa\")\n"
      ],
      "execution_count": null,
      "outputs": [
        {
          "output_type": "stream",
          "name": "stdout",
          "text": [
            "move la ficha 2 veces pa\n"
          ]
        }
      ]
    },
    {
      "cell_type": "markdown",
      "metadata": {
        "id": "W_1OYwcIkKdl"
      },
      "source": [
        "Si jugas a la generala mandale este q tiene 5 dados pa"
      ]
    },
    {
      "cell_type": "code",
      "metadata": {
        "colab": {
          "base_uri": "https://localhost:8080/"
        },
        "id": "Oho5PLQ-jKXV",
        "outputId": "f0038d35-07a8-4611-de15-7eb099e2789b"
      },
      "source": [
        "for i in [1,2,3,4,5]:\n",
        "  i = randint(1,6)\n",
        "  i = str(i)\n",
        "  print(\"sacaste un \" + i)\n"
      ],
      "execution_count": null,
      "outputs": [
        {
          "output_type": "stream",
          "name": "stdout",
          "text": [
            "sacaste un 2\n",
            "sacaste un 4\n",
            "sacaste un 5\n",
            "sacaste un 1\n",
            "sacaste un 5\n"
          ]
        }
      ]
    },
    {
      "cell_type": "markdown",
      "metadata": {
        "id": "3BeVQIwlngKK"
      },
      "source": [
        "este tiene 2"
      ]
    },
    {
      "cell_type": "code",
      "metadata": {
        "colab": {
          "base_uri": "https://localhost:8080/"
        },
        "id": "e4N_JdJcneju",
        "outputId": "42900c33-0e82-4365-cfc7-552e1b14e9be"
      },
      "source": [
        "for i in [1,2]:\n",
        "  i = randint(1,6)\n",
        "  i = str(i)\n",
        "  print(\"sacaste un \" + i)"
      ],
      "execution_count": null,
      "outputs": [
        {
          "output_type": "stream",
          "name": "stdout",
          "text": [
            "sacaste un 4\n",
            "sacaste un 3\n"
          ]
        }
      ]
    },
    {
      "cell_type": "markdown",
      "metadata": {
        "id": "T_sRBgZWr712"
      },
      "source": [
        "Tira hasta q sale 6"
      ]
    },
    {
      "cell_type": "code",
      "metadata": {
        "colab": {
          "base_uri": "https://localhost:8080/"
        },
        "id": "-QR3OIP3pd85",
        "outputId": "df753928-8b54-45eb-dfb3-c821ff1c2cdc"
      },
      "source": [
        "dado = 0\n",
        "while dado != 6:\n",
        "  dado = randint(1,6)\n",
        "  print(dado)"
      ],
      "execution_count": null,
      "outputs": [
        {
          "output_type": "stream",
          "name": "stdout",
          "text": [
            "4\n",
            "4\n",
            "5\n",
            "4\n",
            "4\n",
            "4\n",
            "2\n",
            "4\n",
            "5\n",
            "5\n",
            "6\n"
          ]
        }
      ]
    }
  ]
}